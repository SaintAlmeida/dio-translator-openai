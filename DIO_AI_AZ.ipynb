{
  "nbformat": 4,
  "nbformat_minor": 0,
  "metadata": {
    "colab": {
      "provenance": []
    },
    "kernelspec": {
      "name": "python3",
      "display_name": "Python 3"
    },
    "language_info": {
      "name": "python"
    }
  },
  "cells": [
    {
      "cell_type": "code",
      "execution_count": null,
      "metadata": {
        "colab": {
          "base_uri": "https://localhost:8080/"
        },
        "id": "Mtkz-zcmV-W1",
        "outputId": "83ec4d3e-90a5-4f95-b7d0-3f2bb2093c26"
      },
      "outputs": [
        {
          "output_type": "stream",
          "name": "stdout",
          "text": [
            "Requirement already satisfied: requests in /usr/local/lib/python3.10/dist-packages (2.32.3)\n",
            "Collecting python-docx\n",
            "  Downloading python_docx-1.1.2-py3-none-any.whl.metadata (2.0 kB)\n",
            "Requirement already satisfied: charset-normalizer<4,>=2 in /usr/local/lib/python3.10/dist-packages (from requests) (3.4.0)\n",
            "Requirement already satisfied: idna<4,>=2.5 in /usr/local/lib/python3.10/dist-packages (from requests) (3.10)\n",
            "Requirement already satisfied: urllib3<3,>=1.21.1 in /usr/local/lib/python3.10/dist-packages (from requests) (2.2.3)\n",
            "Requirement already satisfied: certifi>=2017.4.17 in /usr/local/lib/python3.10/dist-packages (from requests) (2024.8.30)\n",
            "Requirement already satisfied: lxml>=3.1.0 in /usr/local/lib/python3.10/dist-packages (from python-docx) (5.3.0)\n",
            "Requirement already satisfied: typing-extensions>=4.9.0 in /usr/local/lib/python3.10/dist-packages (from python-docx) (4.12.2)\n",
            "Downloading python_docx-1.1.2-py3-none-any.whl (244 kB)\n",
            "\u001b[2K   \u001b[90m━━━━━━━━━━━━━━━━━━━━━━━━━━━━━━━━━━━━━━━━\u001b[0m \u001b[32m244.3/244.3 kB\u001b[0m \u001b[31m12.9 MB/s\u001b[0m eta \u001b[36m0:00:00\u001b[0m\n",
            "\u001b[?25hInstalling collected packages: python-docx\n",
            "Successfully installed python-docx-1.1.2\n"
          ]
        }
      ],
      "source": [
        "!pip install requests python-docx"
      ]
    },
    {
      "cell_type": "code",
      "source": [
        "import requests\n",
        "import uuid  # Importando para gerar o X-ClientTraceId corretamente\n",
        "\n",
        "subscription_key = \"3LfDtAqAa5dg2aly6VOwTebN88WcXpLcG01ZiveUSqd56z1QQx9cJQQJ99AKACYeBjFXJ3w3AAABACOGZo26\"\n",
        "endpoint = 'https://api.cognitive.microsofttranslator.com/'\n",
        "location = 'eastus'\n",
        "language_destination = 'pt-br'\n",
        "\n",
        "def translator_text(text, target_language):\n",
        "    path = '/translate'\n",
        "    constructed_url = endpoint + path\n",
        "    headers = {\n",
        "        'Ocp-Apim-Subscription-Key': subscription_key,\n",
        "        'Ocp-Apim-Subscription-Region': location,\n",
        "        'Content-type': 'application/json',\n",
        "        'X-ClientTraceId': str(uuid.uuid4())  # Usando uuid para gerar um id único\n",
        "    }\n",
        "\n",
        "    body = [{\n",
        "        'text': text\n",
        "    }]\n",
        "    params = {\n",
        "        'api-version': '3.0',\n",
        "        'from': 'en',\n",
        "        'to': target_language\n",
        "    }\n",
        "\n",
        "    request = requests.post(constructed_url, params=params, headers=headers, json=body)\n",
        "\n",
        "    if request.status_code == 200:\n",
        "        response = request.json()\n",
        "        return response[0]['translations'][0]['text']\n",
        "    else:\n",
        "        print(f\"Error: {request.status_code}\")\n",
        "        return None\n",
        "\n",
        "translated_text = translator_text('Treasure is a catchy and upbeat song by Bruno Mars', language_destination)\n",
        "print(translated_text)\n"
      ],
      "metadata": {
        "colab": {
          "base_uri": "https://localhost:8080/"
        },
        "id": "KQN6KAgqWFSp",
        "outputId": "f292f3cc-9b11-4a8b-be37-19d61f1aef45"
      },
      "execution_count": null,
      "outputs": [
        {
          "output_type": "stream",
          "name": "stdout",
          "text": [
            "Error: 401\n",
            "None\n"
          ]
        }
      ]
    },
    {
      "cell_type": "code",
      "source": [
        "from docx import Document  # Certifique-se de que está importando corretamente\n",
        "\n",
        "def translate_document(path):\n",
        "    document = Document(path)  # Carrega o documento existente\n",
        "    full_text = []\n",
        "    for paragraph in document.paragraphs:\n",
        "        translated_text = translator_text(paragraph.text, language_destination)\n",
        "        full_text.append(translated_text)\n",
        "\n",
        "    # Cria um novo documento para salvar o texto traduzido\n",
        "    translated_doc = Document()\n",
        "    for line in full_text:\n",
        "        translated_doc.add_paragraph(line)  # Adiciona cada linha traduzida como um novo parágrafo\n",
        "\n",
        "    # Define o caminho do arquivo traduzido\n",
        "    path_translated = path.replace(\".docx\", f\"_{language_destination}.docx\")\n",
        "    translated_doc.save(path_translated)  # Salva o novo documento traduzido\n",
        "    return path_translated\n",
        "\n",
        "input_file = '/content/Treasure-opinion.docx'\n",
        "translated_file = translate_document(input_file)\n",
        "print(f\"Arquivo traduzido salvo em: {translated_file}\")\n"
      ],
      "metadata": {
        "colab": {
          "base_uri": "https://localhost:8080/"
        },
        "id": "Vtbn2Lkmb08Y",
        "outputId": "f3ddff77-5539-4b7e-e929-2d676ef0dc3d"
      },
      "execution_count": null,
      "outputs": [
        {
          "output_type": "stream",
          "name": "stdout",
          "text": [
            "Error: 401\n",
            "Error: 401\n",
            "Error: 401\n",
            "Error: 401\n",
            "Error: 401\n",
            "Arquivo traduzido salvo em: /content/Treasure-opinion_pt-br.docx\n"
          ]
        }
      ]
    }
  ]
}